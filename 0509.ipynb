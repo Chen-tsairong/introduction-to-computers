{
  "nbformat": 4,
  "nbformat_minor": 0,
  "metadata": {
    "colab": {
      "name": "0509.ipynb",
      "provenance": [],
      "authorship_tag": "ABX9TyMRy+68dCTcoHgtovmy0CwU",
      "include_colab_link": true
    },
    "kernelspec": {
      "name": "python3",
      "display_name": "Python 3"
    },
    "language_info": {
      "name": "python"
    }
  },
  "cells": [
    {
      "cell_type": "markdown",
      "metadata": {
        "id": "view-in-github",
        "colab_type": "text"
      },
      "source": [
        "<a href=\"https://colab.research.google.com/github/Chen-tsairong/introduction-to-computers/blob/main/0509.ipynb\" target=\"_parent\"><img src=\"https://colab.research.google.com/assets/colab-badge.svg\" alt=\"Open In Colab\"/></a>"
      ]
    },
    {
      "cell_type": "code",
      "source": [
        "a=float(input('請輸入體溫:'))\n",
        "if  a>=37.5:\n",
        "  print('體溫過高')\n",
        "elif a<=37.4 and a>=37.0:\n",
        "  print('體溫略高')\n",
        "elif a>=34.0 and a>=36.9:\n",
        "  print('體溫正常')\n",
        "else:\n",
        "  print('體溫異常,請重新量測')"
      ],
      "metadata": {
        "colab": {
          "base_uri": "https://localhost:8080/"
        },
        "id": "4QLyQNaV77JL",
        "outputId": "82e5ea45-6037-4449-f064-9775c4d412c9"
      },
      "execution_count": 16,
      "outputs": [
        {
          "output_type": "stream",
          "name": "stdout",
          "text": [
            "請輸入體溫37.0\n",
            "體溫略高\n"
          ]
        }
      ]
    },
    {
      "cell_type": "code",
      "execution_count": 12,
      "metadata": {
        "colab": {
          "base_uri": "https://localhost:8080/"
        },
        "id": "Z-N0dW2203q4",
        "outputId": "da8a689a-4e73-4ab3-8e29-e0073598438d"
      },
      "outputs": [
        {
          "output_type": "stream",
          "name": "stdout",
          "text": [
            "請輸入成績:89\n",
            "B\n"
          ]
        }
      ],
      "source": [
        "a=float(input('請輸入成績:'))\n",
        "if  a >= 90:\n",
        "  print('A')\n",
        "elif a <= 89 and a>=80:\n",
        "  print('B')\n",
        "elif a <= 79 and a>=70:\n",
        "  print('C')\n",
        "elif a <= 69 and a>=60:\n",
        "  print('D')\n",
        "else:\n",
        "  print('E')"
      ]
    },
    {
      "cell_type": "code",
      "source": [
        "a=int(input('請輸入體溫:'))\n",
        "if  a == 3 or a == 4 or a == 5:\n",
        "  print('%d月是春天'%(a))\n",
        "elif a == 6 or a == 7 or a == 8:\n",
        "  print('%d月是夏天'%(a))\n",
        "elif a == 9 or a == 10 or a == 11:\n",
        "  print('%d月是秋天'%(a))\n",
        "elif a == 1 or a == 2 or a == 12:\n",
        "  print('%d月是冬天'%(a))\n",
        "else:\n",
        "  print('月份不再範圍內')"
      ],
      "metadata": {
        "colab": {
          "base_uri": "https://localhost:8080/"
        },
        "id": "WcMTK0LABOhq",
        "outputId": "235a621e-4286-4cae-9df4-8cb04c1cbd29"
      },
      "execution_count": 21,
      "outputs": [
        {
          "output_type": "stream",
          "name": "stdout",
          "text": [
            "請輸入體溫:78\n",
            "月份不再範圍內\n"
          ]
        }
      ]
    },
    {
      "cell_type": "code",
      "source": [
        "a=float(input('請輸入今年收入淨額: '))\n",
        "A=a*0.30\n",
        "B=a*0.21\n",
        "C=a*0.13\n",
        "D=a*0.06\n",
        "if  a>=2000000:\n",
        "  print('賦稅金額: %.1f 元'%(A))\n",
        "elif a>=1000000:\n",
        "  print('賦稅金額: %.1f 元'%(B))\n",
        "elif a>=600000:\n",
        "  print('賦稅金額: %.1f 元'%(C))\n",
        "elif a>=300000:\n",
        "  print('賦稅金額: %.1f 元'%(D))\n",
        "else:\n",
        "  print('賦稅金額: 0元')"
      ],
      "metadata": {
        "colab": {
          "base_uri": "https://localhost:8080/"
        },
        "id": "hrsYZMRLErFh",
        "outputId": "94b63bca-08a9-491b-9dd6-9334017142e0"
      },
      "execution_count": 12,
      "outputs": [
        {
          "output_type": "stream",
          "name": "stdout",
          "text": [
            "請輸入今年收入淨額: 20000000\n",
            "賦稅金額: 6000000.0 元\n"
          ]
        }
      ]
    },
    {
      "cell_type": "code",
      "source": [
        "a=float(input('請輸入購物金額:'))\n",
        "A=a*0.80\n",
        "B=a*0.85\n",
        "C=a*0.90\n",
        "D=a*0.95\n",
        "if  a>=100000:\n",
        "  print('八折 %.1f元'%(A))\n",
        "elif a>=50000:\n",
        "  print('八五折 %.1f元'%(B))\n",
        "elif a>=30000:\n",
        "  print('九折 %.1f元'%(C))\n",
        "elif a>=10000:\n",
        "  print('九五折 %.1f元'%(D))\n",
        "else:\n",
        "  print('沒打折 %d元'%(a))"
      ],
      "metadata": {
        "colab": {
          "base_uri": "https://localhost:8080/"
        },
        "id": "zZMNc0xjAQqq",
        "outputId": "bbc7acb7-d762-4e83-842f-942bdbf747b8"
      },
      "execution_count": 1,
      "outputs": [
        {
          "output_type": "stream",
          "name": "stdout",
          "text": [
            "請輸入購物金額:100\n",
            "沒打折 100元\n"
          ]
        }
      ]
    }
  ]
}